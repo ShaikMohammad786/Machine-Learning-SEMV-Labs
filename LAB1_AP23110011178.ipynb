{
  "cells": [
    {
      "cell_type": "markdown",
      "metadata": {
        "id": "view-in-github",
        "colab_type": "text"
      },
      "source": [
        "<a href=\"https://colab.research.google.com/github/ShaikMohammad786/Machine-Learning-SEMV-Labs/blob/main/LAB1_AP23110011178.ipynb\" target=\"_parent\"><img src=\"https://colab.research.google.com/assets/colab-badge.svg\" alt=\"Open In Colab\"/></a>"
      ]
    },
    {
      "cell_type": "markdown",
      "id": "20dc80e4",
      "metadata": {
        "id": "20dc80e4"
      },
      "source": [
        "# 🧑‍💻 NumPy Complete Guided Project\n",
        "**Instructor / Student Colab Notebook** – covers *all* key concepts from `Numpy‑1` to `Numpy‑5`.\n",
        "\n",
        "*Generated: 08 Aug 2025*"
      ]
    },
    {
      "cell_type": "markdown",
      "id": "e8b8b6cf",
      "metadata": {
        "id": "e8b8b6cf"
      },
      "source": [
        "\n",
        "**Table of Contents**\n",
        "\n",
        "1. [Setup](#setup)  \n",
        "2. [Array Creation & Dtypes](#creation)  \n",
        "3. [Array Attributes & Inspection](#attributes)  \n",
        "4. [Indexing, Slicing, Fancy Indexing](#indexing)  \n",
        "5. [Reshaping, Transpose & Copies vs Views](#reshape)  \n",
        "6. [Joining, Splitting, Set & Sorting Ops](#join)  \n",
        "7. [Arithmetic Ops, Universal Functions](#arithmetic)  \n",
        "8. [Broadcasting (Rules + Examples)](#broadcast)  \n",
        "9. [Statistics & Aggregations](#stats)  \n",
        "10. [Random Numbers & Reproducibility](#random)  \n",
        "11. [Structured / Recarrays](#structured)  \n",
        "12. [Linear Algebra Essentials](#linalg)  \n",
        "13. [File I/O (`npy`, `npz`, `txt`)](#io)  \n",
        "14. [Datetime64 & Timedelta64](#datetime)  \n",
        "15. [Masked Arrays & NaNs](#mask)  \n",
        "16. [Mini‑Project — Fitness Data Analysis](#project)  \n",
        "17. [Conclusion & Next Steps](#conclusion)  \n"
      ]
    },
    {
      "cell_type": "markdown",
      "id": "9170f3ee",
      "metadata": {
        "id": "9170f3ee"
      },
      "source": [
        "## <a name='setup'></a>1️⃣ Setup"
      ]
    },
    {
      "cell_type": "code",
      "execution_count": 2,
      "id": "4f54988f",
      "metadata": {
        "colab": {
          "base_uri": "https://localhost:8080/"
        },
        "id": "4f54988f",
        "outputId": "8aabbfc0-7f32-4261-f348-df3fc2336e0a"
      },
      "outputs": [
        {
          "output_type": "stream",
          "name": "stdout",
          "text": [
            "NumPy version: 2.0.2\n"
          ]
        }
      ],
      "source": [
        "import numpy as np, math, os, pathlib, types, textwrap, random\n",
        "print('NumPy version:', np.__version__)"
      ]
    },
    {
      "cell_type": "markdown",
      "id": "c7f7b2c8",
      "metadata": {
        "id": "c7f7b2c8"
      },
      "source": [
        "## <a name='creation'></a>2️⃣ Array Creation & Dtypes"
      ]
    },
    {
      "cell_type": "markdown",
      "id": "47405152",
      "metadata": {
        "id": "47405152"
      },
      "source": [
        "Key functions: `np.array`, `np.arange`, `np.linspace`, `zeros`, `ones`, `full`, `eye`, `identity`, `diag`, `empty`"
      ]
    },
    {
      "cell_type": "code",
      "execution_count": null,
      "id": "801e99ad",
      "metadata": {
        "colab": {
          "base_uri": "https://localhost:8080/"
        },
        "id": "801e99ad",
        "outputId": "523b9e45-0ec9-4698-812a-40ce245ca3f0"
      },
      "outputs": [
        {
          "output_type": "stream",
          "name": "stdout",
          "text": [
            "[1 2 3]\n",
            "[0.  0.2 0.4 0.6 0.8 1. ]\n",
            "[[7.5 7.5 7.5]\n",
            " [7.5 7.5 7.5]]\n",
            "dtypes: int32 float64\n"
          ]
        }
      ],
      "source": [
        "# EXAMPLE\n",
        "arr1 = np.array([1, 2, 3], dtype=np.int32)\n",
        "arr2 = np.linspace(0, 1, 6)\n",
        "arr3 = np.full((2,3), 7.5)\n",
        "print(arr1, arr2, arr3, sep=\"\\n\")\n",
        "print(\"dtypes:\", arr1.dtype, arr2.dtype)\n"
      ]
    },
    {
      "cell_type": "code",
      "execution_count": null,
      "id": "dc63d076",
      "metadata": {
        "colab": {
          "base_uri": "https://localhost:8080/"
        },
        "id": "dc63d076",
        "outputId": "1fd00285-2f9b-4172-fbfb-dd7ed9fe21b1"
      },
      "outputs": [
        {
          "output_type": "stream",
          "name": "stdout",
          "text": [
            "[[0 1 0 1 0 1 0 1 0 1]\n",
            " [1 0 1 0 1 0 1 0 1 0]\n",
            " [0 1 0 1 0 1 0 1 0 1]\n",
            " [1 0 1 0 1 0 1 0 1 0]\n",
            " [0 1 0 1 0 1 0 1 0 1]\n",
            " [1 0 1 0 1 0 1 0 1 0]\n",
            " [0 1 0 1 0 1 0 1 0 1]\n",
            " [1 0 1 0 1 0 1 0 1 0]\n",
            " [0 1 0 1 0 1 0 1 0 1]\n",
            " [1 0 1 0 1 0 1 0 1 0]]\n"
          ]
        }
      ],
      "source": [
        "# 🖊️ TODO: create a 10×10 chessboard pattern using zeros & ones\n",
        "chess = np.zeros((10,10), dtype = np.int32)\n",
        "chess[1::2,::2]=1\n",
        "chess[::2,1::2]=1\n",
        "\n",
        "print(chess)\n"
      ]
    },
    {
      "cell_type": "markdown",
      "id": "925be762",
      "metadata": {
        "id": "925be762"
      },
      "source": [
        "## <a name='attributes'></a>3️⃣ Array Attributes & Inspection"
      ]
    },
    {
      "cell_type": "markdown",
      "id": "f103bb36",
      "metadata": {
        "id": "f103bb36"
      },
      "source": [
        "`shape`, `ndim`, `size`, `dtype`, `itemsize`, `nbytes`"
      ]
    },
    {
      "cell_type": "code",
      "execution_count": null,
      "id": "ad3eeda1",
      "metadata": {
        "colab": {
          "base_uri": "https://localhost:8080/"
        },
        "id": "ad3eeda1",
        "outputId": "cf121671-e169-4be8-ac4c-67387940e9b1"
      },
      "outputs": [
        {
          "output_type": "stream",
          "name": "stdout",
          "text": [
            "shape (3, 4) ndim 2 size 12 itemsize 8 total bytes 96\n"
          ]
        }
      ],
      "source": [
        "M = np.arange(12).reshape(3,4)\n",
        "print('shape', M.shape, 'ndim', M.ndim, 'size', M.size, 'itemsize', M.itemsize, 'total bytes', M.nbytes)\n",
        "\n"
      ]
    },
    {
      "cell_type": "code",
      "execution_count": null,
      "id": "5875fefe",
      "metadata": {
        "colab": {
          "base_uri": "https://localhost:8080/"
        },
        "id": "5875fefe",
        "outputId": "c417c16e-2cbf-43fb-d8c2-395eaf499d2a"
      },
      "outputs": [
        {
          "output_type": "stream",
          "name": "stdout",
          "text": [
            "8000000\n"
          ]
        }
      ],
      "source": [
        "# 🖊️ TODO: check memory footprint of a 1000×1000 float64 array\n",
        "arr = np.ones((1000,1000),dtype = np.float64)\n",
        "print(arr.nbytes)\n"
      ]
    },
    {
      "cell_type": "markdown",
      "id": "bd895660",
      "metadata": {
        "id": "bd895660"
      },
      "source": [
        "## <a name='indexing'></a>4️⃣ Indexing, Slicing & Fancy Indexing"
      ]
    },
    {
      "cell_type": "code",
      "execution_count": null,
      "id": "5dc7d4c1",
      "metadata": {
        "id": "5dc7d4c1"
      },
      "outputs": [],
      "source": [
        "a = np.arange(1,26).reshape(5,5)\n",
        "print(a[:, 0])     # first column\n",
        "print(a[::2, ::2]) # every 2nd row/col\n",
        "mask = (a % 3 == 0)\n",
        "print('multiples of 3:', a[mask])\n"
      ]
    },
    {
      "cell_type": "code",
      "execution_count": null,
      "id": "9c4bd5f4",
      "metadata": {
        "id": "9c4bd5f4"
      },
      "outputs": [],
      "source": [
        "# 🖊️ TODO: use fancy indexing to swap first and last rows of `a`\n",
        "a= np.arange(1,26).reshape(5,5)\n",
        "a[[0, -1], :] = a[[-1, 0], :]\n",
        "\n",
        "print(a)"
      ]
    },
    {
      "cell_type": "markdown",
      "id": "8f4de1d5",
      "metadata": {
        "id": "8f4de1d5"
      },
      "source": [
        "## <a name='reshape'></a>5️⃣ Reshaping, Transpose & Copies vs Views"
      ]
    },
    {
      "cell_type": "code",
      "execution_count": null,
      "id": "053b4ff4",
      "metadata": {
        "colab": {
          "base_uri": "https://localhost:8080/"
        },
        "id": "053b4ff4",
        "outputId": "a31c8519-0c20-4976-93cd-82d21191051a"
      },
      "outputs": [
        {
          "output_type": "stream",
          "name": "stdout",
          "text": [
            "b is modified: [99  1  2  3  4  5  6  7]\n",
            "b unchanged with copy: [99  1  2  3  4  5  6  7]\n"
          ]
        }
      ],
      "source": [
        "b = np.arange(8)\n",
        "B = b.reshape(2,4)\n",
        "B[0,0] = 99\n",
        "print('b is modified:', b)\n",
        "C = b.reshape(2,4).copy()\n",
        "C[0,0] = -1\n",
        "print('b unchanged with copy:', b)\n"
      ]
    },
    {
      "cell_type": "code",
      "execution_count": null,
      "id": "a3e599bd",
      "metadata": {
        "colab": {
          "base_uri": "https://localhost:8080/"
        },
        "id": "a3e599bd",
        "outputId": "b2355e92-512c-4ae0-b5dd-50419ac30577"
      },
      "outputs": [
        {
          "output_type": "stream",
          "name": "stdout",
          "text": [
            "original arr [[[0]]]\n",
            "ravel arr3d before modification [0]\n",
            "flatten arr3d before modification [0]\n",
            "flatten arr3d after modification [5]\n",
            "original arr [[[0]]]\n",
            "ravel arr3d after modification [5]\n",
            "original arr [[[5]]]\n"
          ]
        }
      ],
      "source": [
        "# 🖊️ TODO: Flatten a 3‑D array into 1‑D using both `ravel` and `flatten`; observe copy vs view.\n",
        "\n",
        "arr3d = np.arange(1).reshape(1,1,1)\n",
        "ravel_arr3d = arr3d.ravel()\n",
        "flatten_arr3d = arr3d.flatten()\n",
        "print('original arr',arr3d)\n",
        "print(\"ravel arr3d before modification\",ravel_arr3d)\n",
        "print(\"flatten arr3d before modification\",flatten_arr3d)\n",
        "\n",
        "flatten_arr3d[0] = 5\n",
        "print(\"flatten arr3d after modification\",flatten_arr3d)\n",
        "print('original arr',arr3d)  #flatten() makes copy and doesnt change the original array\n",
        "\n",
        "ravel_arr3d[0] = 5\n",
        "print(\"ravel arr3d after modification\",ravel_arr3d)\n",
        "print('original arr',arr3d) #ravel() makes view of orginal arr and changes will effect the orginal array\n",
        "\n",
        "\n",
        "\n"
      ]
    },
    {
      "cell_type": "markdown",
      "id": "2390c4ae",
      "metadata": {
        "id": "2390c4ae"
      },
      "source": [
        "## <a name='join'></a>6️⃣ Joining, Splitting, Set & Sorting Ops"
      ]
    },
    {
      "cell_type": "code",
      "execution_count": null,
      "id": "a53f640a",
      "metadata": {
        "colab": {
          "base_uri": "https://localhost:8080/"
        },
        "id": "a53f640a",
        "outputId": "778626bd-2336-4c35-9e08-8ef13e03b61c"
      },
      "outputs": [
        {
          "output_type": "stream",
          "name": "stdout",
          "text": [
            "[1 3 5 2 4 6]\n",
            "union [1 2 3 4 5 6]\n",
            "intersect [1 2]\n",
            "sorted descending [6 5 4 3 2 1]\n"
          ]
        }
      ],
      "source": [
        "x = np.array([1,3,5]); y = np.array([2,4,6])\n",
        "xy = np.concatenate([x,y])\n",
        "print(xy)\n",
        "print('union', np.union1d(x,y))\n",
        "print('intersect', np.intersect1d(xy,[1,2,10]))\n",
        "print('sorted descending', np.sort(xy)[::-1])\n"
      ]
    },
    {
      "cell_type": "code",
      "execution_count": null,
      "id": "4231e729",
      "metadata": {
        "colab": {
          "base_uri": "https://localhost:8080/"
        },
        "id": "4231e729",
        "outputId": "6bbcbde6-7c5a-49d1-e560-0678c6dbfefb"
      },
      "outputs": [
        {
          "output_type": "stream",
          "name": "stdout",
          "text": [
            "[1 3 5 2 4 6]\n",
            "[array([1, 3, 5]), array([2, 4, 6])]\n"
          ]
        }
      ],
      "source": [
        "# 🖊️ TODO: split `xy` back into two equal halves using `np.array_split`\n",
        "x = np.array([1,3,5]); y = np.array([2,4,6])\n",
        "xy = np.concatenate([x,y])\n",
        "print(xy)\n",
        "print(np.array_split(xy,2))\n"
      ]
    },
    {
      "cell_type": "markdown",
      "id": "e6ebeb68",
      "metadata": {
        "id": "e6ebeb68"
      },
      "source": [
        "## <a name='arithmetic'></a>7️⃣ Arithmetic Ops & Universal Functions"
      ]
    },
    {
      "cell_type": "code",
      "execution_count": null,
      "id": "04a6eda9",
      "metadata": {
        "colab": {
          "base_uri": "https://localhost:8080/"
        },
        "id": "04a6eda9",
        "outputId": "795807e2-84c5-4509-d1f4-623792f6b100"
      },
      "outputs": [
        {
          "output_type": "stream",
          "name": "stdout",
          "text": [
            "exp [ 1.          2.71828183  7.3890561  20.08553692 54.59815003]\n",
            "sin [ 0.          0.84147098  0.90929743  0.14112001 -0.7568025 ]\n",
            "vectorised addition [10 11 12 13 14]\n"
          ]
        }
      ],
      "source": [
        "v = np.arange(5)\n",
        "print('exp', np.exp(v))\n",
        "print('sin', np.sin(v))\n",
        "print('vectorised addition', v + 10)\n"
      ]
    },
    {
      "cell_type": "code",
      "execution_count": null,
      "id": "c011f422",
      "metadata": {
        "colab": {
          "base_uri": "https://localhost:8080/"
        },
        "id": "c011f422",
        "outputId": "a32f8e87-7312-49a5-f90a-51d1ad002ee9"
      },
      "outputs": [
        {
          "output_type": "stream",
          "name": "stdout",
          "text": [
            "[0.         0.52359878 0.78539816 1.04719755 1.57079633]\n",
            "[0.         0.5        0.70710678 0.8660254  1.        ]\n"
          ]
        }
      ],
      "source": [
        "# 🖊️ TODO: given degrees [0,30,45,60,90], compute radians and sin values.\n",
        "a = np.array([0,30,45,60,90])\n",
        "rad_a = np.deg2rad(a)\n",
        "print(rad_a)\n",
        "print(np.sin(rad_a))\n",
        "\n"
      ]
    },
    {
      "cell_type": "markdown",
      "id": "7c9a5d70",
      "metadata": {
        "id": "7c9a5d70"
      },
      "source": [
        "## <a name='broadcast'></a>8️⃣ Broadcasting Rules"
      ]
    },
    {
      "cell_type": "code",
      "source": [],
      "metadata": {
        "id": "1UozjzX1BzLc"
      },
      "id": "1UozjzX1BzLc",
      "execution_count": null,
      "outputs": []
    },
    {
      "cell_type": "markdown",
      "id": "aba2764d",
      "metadata": {
        "id": "aba2764d"
      },
      "source": [
        "Rules: compare dimensions from right → left; stretch size 1 dims; mismatch error."
      ]
    },
    {
      "cell_type": "code",
      "execution_count": null,
      "id": "6313899c",
      "metadata": {
        "colab": {
          "base_uri": "https://localhost:8080/"
        },
        "id": "6313899c",
        "outputId": "4895ec4a-6e74-4de7-9a57-76e33f8ee651"
      },
      "outputs": [
        {
          "output_type": "stream",
          "name": "stdout",
          "text": [
            "[[0 1 2 3 4]\n",
            " [1 2 3 4 5]\n",
            " [2 3 4 5 6]]\n"
          ]
        }
      ],
      "source": [
        "row = np.arange(5)\n",
        "col = np.arange(3).reshape(3,1)\n",
        "matrix = row + col  # broadcast to 3×5\n",
        "print(matrix)\n"
      ]
    },
    {
      "cell_type": "code",
      "execution_count": null,
      "id": "de718119",
      "metadata": {
        "colab": {
          "base_uri": "https://localhost:8080/"
        },
        "id": "de718119",
        "outputId": "c4378569-b316-4bf0-99b4-b4e59dff2d98"
      },
      "outputs": [
        {
          "output_type": "stream",
          "name": "stdout",
          "text": [
            "[[  1   2   3   4   5   6   7   8   9  10]\n",
            " [  2   4   6   8  10  12  14  16  18  20]\n",
            " [  3   6   9  12  15  18  21  24  27  30]\n",
            " [  4   8  12  16  20  24  28  32  36  40]\n",
            " [  5  10  15  20  25  30  35  40  45  50]\n",
            " [  6  12  18  24  30  36  42  48  54  60]\n",
            " [  7  14  21  28  35  42  49  56  63  70]\n",
            " [  8  16  24  32  40  48  56  64  72  80]\n",
            " [  9  18  27  36  45  54  63  72  81  90]\n",
            " [ 10  20  30  40  50  60  70  80  90 100]]\n"
          ]
        }
      ],
      "source": [
        "# 🖊️ TODO: use broadcasting to create a 10×10 multiplication table.\n",
        "col = np.arange(1,11).reshape(10,1)\n",
        "row = np.arange(1,11).reshape(1,10)\n",
        "\n",
        "print(row*col)\n"
      ]
    },
    {
      "cell_type": "markdown",
      "id": "38a618c8",
      "metadata": {
        "id": "38a618c8"
      },
      "source": [
        "## <a name='stats'></a>9️⃣ Statistics & Aggregations"
      ]
    },
    {
      "cell_type": "code",
      "execution_count": 3,
      "id": "af9ac70d",
      "metadata": {
        "colab": {
          "base_uri": "https://localhost:8080/"
        },
        "id": "af9ac70d",
        "outputId": "475d8104-2a63-4d10-9afe-29cbca3a9467"
      },
      "outputs": [
        {
          "output_type": "stream",
          "name": "stdout",
          "text": [
            "data\n",
            " [[85 64 51 27]\n",
            " [31  5  8  2]\n",
            " [18 81 65 91]\n",
            " [50 61 97 73]\n",
            " [63 54 56 93]]\n",
            "row sums [227  46 255 281 266]\n",
            "col means [49.4 53.  55.4 57.2]\n"
          ]
        }
      ],
      "source": [
        "data = np.random.default_rng(0).integers(1, 100, size=(5,4))\n",
        "print('data\\n', data)\n",
        "print('row sums', data.sum(axis=1))\n",
        "print('col means', data.mean(axis=0))\n"
      ]
    },
    {
      "cell_type": "code",
      "execution_count": 4,
      "id": "63adf5be",
      "metadata": {
        "id": "63adf5be",
        "colab": {
          "base_uri": "https://localhost:8080/"
        },
        "outputId": "7dbcb96d-b3f9-4fa4-9554-cdeb17d0d55b"
      },
      "outputs": [
        {
          "output_type": "stream",
          "name": "stdout",
          "text": [
            "30.0\n",
            "58.5\n",
            "75.0\n"
          ]
        }
      ],
      "source": [
        "# 🖊️ TODO: compute `np.percentile` (25th, 50th, 75th) of flattened `data`.\n",
        "dt = np.random.default_rng(0).integers(1, 100, size=(5,4))\n",
        "data = dt.flatten()\n",
        "print(np.percentile(data,25))\n",
        "print(np.percentile(data,50))\n",
        "print(np.percentile(data,75))\n",
        "\n"
      ]
    },
    {
      "cell_type": "markdown",
      "id": "8f3c00d7",
      "metadata": {
        "id": "8f3c00d7"
      },
      "source": [
        "## <a name='random'></a>🔟 Random Numbers & Reproducibility"
      ]
    },
    {
      "cell_type": "code",
      "execution_count": 5,
      "id": "98016975",
      "metadata": {
        "id": "98016975",
        "outputId": "56dd0887-6023-4add-db6e-5672195e47cf",
        "colab": {
          "base_uri": "https://localhost:8080/"
        }
      },
      "outputs": [
        {
          "output_type": "stream",
          "name": "stdout",
          "text": [
            "[0.77395605 0.43887844 0.85859792 0.69736803 0.09417735] [31 49 39 40 38]\n"
          ]
        }
      ],
      "source": [
        "rng = np.random.default_rng(42)\n",
        "rand_floats = rng.random(5)\n",
        "rand_ints = rng.integers(low=10, high=50, size=5)\n",
        "print(rand_floats, rand_ints)\n",
        "rng2 = np.random.default_rng(42)\n",
        "assert np.allclose(rand_floats, rng2.random(5))\n"
      ]
    },
    {
      "cell_type": "code",
      "execution_count": 8,
      "id": "35dbadba",
      "metadata": {
        "id": "35dbadba",
        "outputId": "12b21afe-8b7e-4e59-974d-65feafd2a2ef",
        "colab": {
          "base_uri": "https://localhost:8080/"
        }
      },
      "outputs": [
        {
          "output_type": "stream",
          "name": "stdout",
          "text": [
            "[6 4 4 2 2 1 1 1 2 5 4 6 4 4 6 5 4 4 4 6 2 5 5 1 3 6 4 1 5 5 6 2 1 6 1 4 1\n",
            " 2 3 3 3 1 1 1 1 5 4 4 2 4 5 3 3 6 5 6 3 5 6 4 6 5 5 3 6 1 4 5 6 4 3 2 3 3\n",
            " 5 6 1 6 4 3 5 4 2 2 5 4 4 3 5 3 2 6 2 2 5 4 1 1 3 5]\n",
            "0.16\n"
          ]
        }
      ],
      "source": [
        "# 🖊️ TODO: simulate rolling a fair six‑sided die 100 times; estimate proportion of 6s.\n",
        "rolls = np.random.default_rng(0).integers(1,7, size = 100)\n",
        "print(rolls)\n",
        "print(np.mean(rolls == 6))\n",
        "\n",
        "\n"
      ]
    },
    {
      "cell_type": "markdown",
      "id": "6cdb04b2",
      "metadata": {
        "id": "6cdb04b2"
      },
      "source": [
        "## <a name='structured'></a>1️⃣1️⃣ Structured / Record Arrays"
      ]
    },
    {
      "cell_type": "code",
      "execution_count": 9,
      "id": "d8f64e42",
      "metadata": {
        "id": "d8f64e42",
        "outputId": "55c2df40-56a2-41ed-efd4-f9f0fbbd88be",
        "colab": {
          "base_uri": "https://localhost:8080/"
        }
      },
      "outputs": [
        {
          "output_type": "stream",
          "name": "stdout",
          "text": [
            "['Alice' 'Bob'] 27.5\n"
          ]
        }
      ],
      "source": [
        "people = np.array([('Alice', 25, 55.0), ('Bob', 30, 85.5)],\n",
        "                   dtype=[('name','U10'), ('age','i4'), ('weight','f4')])\n",
        "print(people['name'], people['age'].mean())\n"
      ]
    },
    {
      "cell_type": "code",
      "execution_count": 10,
      "id": "7a65fe1d",
      "metadata": {
        "id": "7a65fe1d",
        "outputId": "ba2fd3f4-7b78-42f4-f325-f9f0fd4f869c",
        "colab": {
          "base_uri": "https://localhost:8080/"
        }
      },
      "outputs": [
        {
          "output_type": "stream",
          "name": "stdout",
          "text": [
            "[('Alice', 25, 55.0, 160) ('Bob', 30, 85.5, 175)]\n"
          ]
        }
      ],
      "source": [
        "# 🖊️ TODO: add a new field 'height' to the structured array using `np.lib.recfunctions.append_fields` (hint: pip install?).\n",
        "from numpy.lib import recfunctions as rfn\n",
        "\n",
        "people = np.array([('Alice', 25, 55.0), ('Bob', 30, 85.5)],\n",
        "                   dtype=[('name','U10'), ('age','i4'), ('weight','f4')])\n",
        "\n",
        "people = rfn.append_fields(people, 'height', [160, 175])\n",
        "print(people)\n"
      ]
    },
    {
      "cell_type": "markdown",
      "id": "df5b617b",
      "metadata": {
        "id": "df5b617b"
      },
      "source": [
        "## <a name='linalg'></a>1️⃣2️⃣ Linear Algebra Essentials"
      ]
    },
    {
      "cell_type": "code",
      "execution_count": 11,
      "id": "3f7fb475",
      "metadata": {
        "id": "3f7fb475",
        "outputId": "9e9e7d41-cd91-4468-9efe-771d3d3d9105",
        "colab": {
          "base_uri": "https://localhost:8080/"
        }
      },
      "outputs": [
        {
          "output_type": "stream",
          "name": "stdout",
          "text": [
            "A·x ≈ b? True\n"
          ]
        }
      ],
      "source": [
        "A = np.random.random((3,3))\n",
        "b = np.random.random(3)\n",
        "x = np.linalg.solve(A, b)\n",
        "print('A·x ≈ b?', np.allclose(A.dot(x), b))\n"
      ]
    },
    {
      "cell_type": "code",
      "execution_count": 12,
      "id": "a8fb02d7",
      "metadata": {
        "id": "a8fb02d7",
        "outputId": "2ef99ffa-1822-4cb7-ba1c-4bee9727a320",
        "colab": {
          "base_uri": "https://localhost:8080/"
        }
      },
      "outputs": [
        {
          "output_type": "stream",
          "name": "stdout",
          "text": [
            "eigenvalues: [2.26708707+0.j       0.16872538+0.135315j 0.16872538-0.135315j]\n",
            "eigenvectors: [[ 0.50843766+0.j          0.64127072-0.21020049j  0.64127072+0.21020049j]\n",
            " [ 0.66135055+0.j          0.02336297+0.23456788j  0.02336297-0.23456788j]\n",
            " [ 0.55145861+0.j         -0.69929943+0.j         -0.69929943-0.j        ]]\n"
          ]
        }
      ],
      "source": [
        "# 🖊️ TODO: compute eigenvalues of `A` using `np.linalg.eig`.\n",
        "A = np.random.random((3,3))\n",
        "eigenvalues, eigenvectors = np.linalg.eig(A)\n",
        "print('eigenvalues:', eigenvalues)\n",
        "print('eigenvectors:', eigenvectors)\n"
      ]
    },
    {
      "cell_type": "markdown",
      "id": "e8fd753c",
      "metadata": {
        "id": "e8fd753c"
      },
      "source": [
        "## <a name='io'></a>1️⃣3️⃣ File I/O (`npy`, `npz`, `txt`)"
      ]
    },
    {
      "cell_type": "code",
      "source": [
        "from google.colab import drive\n",
        "drive.mount('/content/drive')"
      ],
      "metadata": {
        "id": "i8qyfjW75PZi"
      },
      "id": "i8qyfjW75PZi",
      "execution_count": null,
      "outputs": []
    },
    {
      "cell_type": "code",
      "execution_count": null,
      "id": "bd6dc026",
      "metadata": {
        "id": "bd6dc026"
      },
      "outputs": [],
      "source": [
        "np.save('array.npy', A)\n",
        "loaded = np.load('array.npy')\n",
        "print('loaded equals A?', np.allclose(loaded, A))\n",
        "np.savez('multi_arrays.npz', A=A, b=b)\n"
      ]
    },
    {
      "cell_type": "code",
      "execution_count": 13,
      "id": "d9552893",
      "metadata": {
        "id": "d9552893",
        "outputId": "01c23b6c-df80-4d40-a342-52529a5fa352",
        "colab": {
          "base_uri": "https://localhost:8080/"
        }
      },
      "outputs": [
        {
          "output_type": "stream",
          "name": "stdout",
          "text": [
            "Original data:\n",
            " [[86 15 75 88]\n",
            " [24 46 56 22]\n",
            " [13 43 41  6]\n",
            " [ 2 99  6 87]\n",
            " [61 94  2 92]]\n",
            "\n",
            "Reloaded data:\n",
            " [[86 15 75 88]\n",
            " [24 46 56 22]\n",
            " [13 43 41  6]\n",
            " [ 2 99  6 87]\n",
            " [61 94  2 92]]\n"
          ]
        }
      ],
      "source": [
        "# 🖊️ TODO: Use `np.savetxt` to write `data` (from stats section) to CSV then reload with `np.loadtxt`.\n",
        "data = np.array([\n",
        "    [86, 15, 75, 88],\n",
        "    [24, 46, 56, 22],\n",
        "    [13, 43, 41,  6],\n",
        "    [ 2, 99,  6, 87],\n",
        "    [61, 94,  2, 92]\n",
        "])\n",
        "\n",
        "# 1️⃣ Save to CSV with integer formatting\n",
        "np.savetxt('data.csv', data, delimiter=',', fmt='%d')\n",
        "\n",
        "# 2️⃣ Load back from CSV\n",
        "loaded = np.loadtxt('data.csv', delimiter=',', dtype=int)\n",
        "\n",
        "print(\"Original data:\\n\", data)\n",
        "print(\"\\nReloaded data:\\n\", loaded)"
      ]
    },
    {
      "cell_type": "markdown",
      "id": "f24f33e3",
      "metadata": {
        "id": "f24f33e3"
      },
      "source": [
        "## <a name='datetime'></a>1️⃣4️⃣ Datetime64 & Timedelta64"
      ]
    },
    {
      "cell_type": "code",
      "execution_count": 14,
      "id": "3ce7b543",
      "metadata": {
        "id": "3ce7b543",
        "outputId": "06034ed4-f197-4c14-c734-f77ae39ec08e",
        "colab": {
          "base_uri": "https://localhost:8080/"
        }
      },
      "outputs": [
        {
          "output_type": "stream",
          "name": "stdout",
          "text": [
            "['2023-01-01' '2023-01-02' '2023-01-03' '2023-01-04' '2023-01-05'] 1 days\n"
          ]
        }
      ],
      "source": [
        "dates = np.arange('2023-01', '2023-04', dtype='datetime64[D]')\n",
        "delta = dates[1:] - dates[:-1]\n",
        "print(dates[:5], delta[0])\n"
      ]
    },
    {
      "cell_type": "code",
      "execution_count": 15,
      "id": "e493d6f8",
      "metadata": {
        "id": "e493d6f8",
        "outputId": "42362c8c-e4bb-4e45-fbd7-2f78fbb59c01",
        "colab": {
          "base_uri": "https://localhost:8080/"
        }
      },
      "outputs": [
        {
          "output_type": "stream",
          "name": "stdout",
          "text": [
            "Total Mondays: 13\n"
          ]
        }
      ],
      "source": [
        "# 🖊️ TODO: find how many Mondays appear in `dates` array.\n",
        "dates = np.arange('2023-01', '2023-04', dtype='datetime64[D]')\n",
        "\n",
        "# Convert dates to day-of-week (Monday=0, Sunday=6)\n",
        "weekdays = dates.astype('datetime64[D]').view('int64') % 7\n",
        "\n",
        "# Count how many Mondays (weekday 0)\n",
        "mondays_count = np.sum(weekdays == 0)\n",
        "\n",
        "print(\"Total Mondays:\", mondays_count)\n"
      ]
    },
    {
      "cell_type": "markdown",
      "id": "636116b9",
      "metadata": {
        "id": "636116b9"
      },
      "source": [
        "## <a name='mask'></a>1️⃣5️⃣ Masked Arrays & NaNs"
      ]
    },
    {
      "cell_type": "code",
      "execution_count": 16,
      "id": "ec30b3ee",
      "metadata": {
        "id": "ec30b3ee",
        "outputId": "e2dd05ab-eff0-4265-da4b-b00c5cbb7fe0",
        "colab": {
          "base_uri": "https://localhost:8080/"
        }
      },
      "outputs": [
        {
          "output_type": "stream",
          "name": "stdout",
          "text": [
            "2.3333333333333335\n"
          ]
        }
      ],
      "source": [
        "arr = np.array([1, 2, np.nan, 4, np.nan])\n",
        "masked = np.ma.masked_invalid(arr)\n",
        "print(masked.mean())\n"
      ]
    },
    {
      "cell_type": "code",
      "execution_count": 18,
      "id": "1ead3a9c",
      "metadata": {
        "id": "1ead3a9c",
        "outputId": "5261794b-89b5-4cd2-a386-3e02adc68356",
        "colab": {
          "base_uri": "https://localhost:8080/"
        }
      },
      "outputs": [
        {
          "output_type": "stream",
          "name": "stdout",
          "text": [
            "\n",
            "Array after replacing NaNs with column means:\n",
            " [[1.  2.  7.5]\n",
            " [4.  5.  6. ]\n",
            " [7.  8.  9. ]]\n"
          ]
        }
      ],
      "source": [
        "# 🖊️ TODO: replace NaNs with column means in a 2‑D array containing NaNs.\n",
        "arr = np.array([\n",
        "    [1,   2,  np.nan],\n",
        "    [4,  np.nan,  6],\n",
        "    [7,   8,  9]\n",
        "], dtype=float)\n",
        "\n",
        "\n",
        "col_means = np.nanmean(arr, axis=0)\n",
        "\n",
        "# 2️⃣ Find NaN positions\n",
        "nan_mask = np.isnan(arr)\n",
        "\n",
        "# 3️⃣ Replace NaNs with column means\n",
        "arr[nan_mask] = np.take(col_means, np.where(nan_mask)[1])\n",
        "\n",
        "print(\"\\nArray after replacing NaNs with column means:\\n\", arr)"
      ]
    },
    {
      "cell_type": "markdown",
      "id": "509e6104",
      "metadata": {
        "id": "509e6104"
      },
      "source": [
        "## <a name='project'></a>1️⃣6️⃣ Mini‑Project: Fitness Data Analysis"
      ]
    },
    {
      "cell_type": "markdown",
      "id": "d867d3a6",
      "metadata": {
        "id": "d867d3a6"
      },
      "source": [
        "Load `fitness.txt` (tab‑separated) then follow prompts."
      ]
    },
    {
      "cell_type": "code",
      "execution_count": 31,
      "id": "593e50db",
      "metadata": {
        "id": "593e50db",
        "outputId": "026b5ced-1dda-4d6b-956d-0005253950b3",
        "colab": {
          "base_uri": "https://localhost:8080/"
        }
      },
      "outputs": [
        {
          "output_type": "stream",
          "name": "stdout",
          "text": [
            "columns: ('date__step_count_____mood__calories_burned_________hours_of_sleep__________bool_of_active', 'f0', 'f1', 'f2', 'f3', 'f4', 'f5', 'f6') rows: 77\n"
          ]
        }
      ],
      "source": [
        "fitness = np.genfromtxt('fitness.txt', delimiter='\\t', dtype=None, encoding=None, names=True)\n",
        "print('columns:', fitness.dtype.names, 'rows:', len(fitness))\n"
      ]
    },
    {
      "cell_type": "code",
      "execution_count": 41,
      "id": "32e514d2",
      "metadata": {
        "id": "32e514d2",
        "outputId": "a2e26023-92b8-4c83-c5e6-bd7fadbfe85a",
        "colab": {
          "base_uri": "https://localhost:8080/"
        }
      },
      "outputs": [
        {
          "output_type": "stream",
          "name": "stdout",
          "text": [
            "Monthly step counts:\n",
            "2017-10 79051\n",
            "2017-11 61148\n",
            "2017-12 61743\n",
            "2018-01 10163\n",
            "\n",
            "Sleep vs Mood correlation: 0.22785142066304537\n",
            "\n",
            "Weekly summary:\n",
            "2017-10-05 Steps: 28451 Avg Mood: 133.3 Avg Sleep: 5.5\n",
            "2017-10-12 Steps: 19456 Avg Mood: 128.6 Avg Sleep: 6.1\n",
            "2017-10-19 Steps: 19524 Avg Mood: 142.9 Avg Sleep: 5.7\n",
            "2017-10-26 Steps: 16055 Avg Mood: 242.9 Avg Sleep: 6.1\n",
            "2017-11-02 Steps: 14868 Avg Mood: 300.0 Avg Sleep: 4.4\n",
            "2017-11-16 Steps: 16239 Avg Mood: 283.3 Avg Sleep: 5.5\n",
            "2017-11-23 Steps: 21998 Avg Mood: 257.1 Avg Sleep: 6.1\n",
            "2017-11-30 Steps: 20393 Avg Mood: 300.0 Avg Sleep: 7.0\n",
            "2017-12-07 Steps: 22494 Avg Mood: 157.1 Avg Sleep: 4.1\n",
            "2017-12-14 Steps: 22428 Avg Mood: 185.7 Avg Sleep: 4.4\n",
            "2017-12-28 Steps: 4381 Avg Mood: 150.0 Avg Sleep: 2.8\n",
            "2018-01-04 Steps: 5818 Avg Mood: 200.0 Avg Sleep: 4.7\n"
          ]
        }
      ],
      "source": [
        "# 🖊️ TODO: Monthly step count, sleep vs mood correlation, weekly summary, etc.\n",
        "\n",
        "with open('/content/fitness.txt', 'r', encoding='utf-8') as f:\n",
        "    lines = f.readlines()\n",
        "\n",
        "\n",
        "rows = [line.strip().split() for line in lines[2:] if line.strip()]\n",
        "\n",
        "\n",
        "dates_str = [r[0] for r in rows]  # 'DD-MM-YYYY'\n",
        "step_count = np.array([r[1] for r in rows], dtype=int)\n",
        "mood = np.array([r[2] for r in rows], dtype=float)\n",
        "sleep = np.array([r[4] for r in rows], dtype=float)\n",
        "\n",
        "dates_iso = [d[6:] + '-' + d[3:5] + '-' + d[:2] for d in dates_str]\n",
        "dates = np.array(dates_iso, dtype='datetime64[D]')\n",
        "\n",
        "print(\"Monthly step counts:\")\n",
        "months = dates.astype('datetime64[M]')\n",
        "for m in np.unique(months):\n",
        "    mask = (months == m)\n",
        "    print(m, step_count[mask].sum())\n",
        "\n",
        "correlation = np.corrcoef(sleep, mood)[0, 1]\n",
        "print(\"\\nSleep vs Mood correlation:\", correlation)\n",
        "\n",
        "print(\"\\nWeekly summary:\")\n",
        "weeks = dates.astype('datetime64[W]')\n",
        "for w in np.unique(weeks):\n",
        "    mask = (weeks == w)\n",
        "    print(w,\n",
        "          \"Steps:\", step_count[mask].sum(),\n",
        "          \"Avg Mood:\", round(mood[mask].mean(), 1),\n",
        "          \"Avg Sleep:\", round(sleep[mask].mean(), 1))\n"
      ]
    },
    {
      "cell_type": "markdown",
      "id": "e7c0e1dc",
      "metadata": {
        "id": "e7c0e1dc"
      },
      "source": [
        "## <a name='conclusion'></a>1️⃣7️⃣ Conclusion & Further Practice\n",
        "Congrats on covering **all core NumPy topics** from your five lecture notebooks!\n",
        "\n",
        "*Keep experimenting, read the official docs, and try converting your NumPy pipelines into Pandas or JAX for more fun.*"
      ]
    }
  ],
  "metadata": {
    "colab": {
      "provenance": [],
      "include_colab_link": true
    },
    "language_info": {
      "name": "python"
    },
    "kernelspec": {
      "name": "python3",
      "display_name": "Python 3"
    }
  },
  "nbformat": 4,
  "nbformat_minor": 5
}